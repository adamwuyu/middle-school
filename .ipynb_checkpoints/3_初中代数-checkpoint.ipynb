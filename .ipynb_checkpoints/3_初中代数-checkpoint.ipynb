{
 "cells": [
  {
   "cell_type": "markdown",
   "id": "7f49aa43",
   "metadata": {},
   "source": [
    "# 有理数\n",
    "## 有理数的定义\n",
    "1. 整数都是有理数\n",
    "2. 分子分母都是整数的分数都是有理数\n",
    "## 有理数的特点\n",
    "1. 如果把一个有理数转换为小数，那么它一定是有限小数或者循环小数"
   ]
  },
  {
   "cell_type": "code",
   "execution_count": 5,
   "id": "6104ce91",
   "metadata": {},
   "outputs": [
    {
     "name": "stdout",
     "output_type": "stream",
     "text": [
      "正确！\n",
      "正确！\n",
      "正确！\n"
     ]
    }
   ],
   "source": [
    "print(\"正确！\" if input(\"1,1/3,0,-1/3,-1都是有理数：A对 B错\").upper() == \"A\" else \"错误～\")\n",
    "print(\"正确！\" if input(\"如果一个数是分数，那么它一定是有理数：A对 B错\").upper() == \"B\" else \"错误～\")"
   ]
  },
  {
   "cell_type": "markdown",
   "id": "e3b0b67d",
   "metadata": {},
   "source": [
    "## 为什么要学习有理数这个概念？\n",
    "因为在数学花园中出现了特别有个性的无理数（无限不循环小数，比如π）,以前学习的化简分数，求最大公因数/最小公倍数，奇偶判断等数学方法对无理数都不适用。所以把数去氛围有理数和无理数，这样就可以放心地对有理数适用各种数学方法进行计算了。"
   ]
  },
  {
   "cell_type": "markdown",
   "id": "abd031ea",
   "metadata": {},
   "source": [
    "## 正数和负数\n",
    "\n",
    "* 比0大的是正数，正数以+号开头，也可省去+号；\n",
    "* 比0小的是负数，负数以+号开头；\n",
    "* 正数开头的+和负数开头的-叫做“符号”"
   ]
  },
  {
   "cell_type": "markdown",
   "id": "19fcd797",
   "metadata": {},
   "source": []
  },
  {
   "cell_type": "code",
   "execution_count": 34,
   "id": "a5d9dbc1",
   "metadata": {},
   "outputs": [
    {
     "name": "stdout",
     "output_type": "stream",
     "text": [
      "错误～\n"
     ]
    }
   ],
   "source": [
    "i = input(\"某国去年去年进口额为1200亿美元, 今年进口额为900亿美元, 今年进口额增长率是多少？\")\n",
    "print(\"正确！\" if i == \"-25%\" else \"错误～\")"
   ]
  },
  {
   "cell_type": "markdown",
   "id": "6dec7cfe",
   "metadata": {},
   "source": [
    "## 数轴\n",
    "在数学中，可以用一条直线上的点表示数，这条直线叫做数轴。\n",
    "* 原点：在直线上任取一个点表示数0，这个点叫做原点\n",
    "* 方向：通常规定直线上从原点向右（或上）为正方向，通常规定直线上从原点向左（或下）为负方向\n",
    "* 刻度：选取适当的长度为单位长度，以原点为起点每隔一个单位长度做一个记号，这就是刻度"
   ]
  },
  {
   "cell_type": "code",
   "execution_count": 31,
   "id": "5121bfa7",
   "metadata": {},
   "outputs": [
    {
     "data": {
      "image/png": "[encoded data removed]",
      "text/plain": [
       "<Figure size 600x150 with 1 Axes>"
      ]
     },
     "metadata": {},
     "output_type": "display_data"
    }
   ],
   "source": [
    "import matplotlib.pyplot as plt\n",
    "fig, ax = plt.subplots(figsize=(6, 1.5))\n",
    "# 隐藏子图的上边框和右边框\n",
    "ax.spines['top'].set_visible(False)\n",
    "ax.spines['right'].set_visible(False)\n",
    "ax.spines['left'].set_visible(False)\n",
    "# 隐藏y轴的刻度\n",
    "ax.set_yticks([])\n",
    "# 设置子图的下边框为x轴\n",
    "ax.spines['bottom'].set_position(('data', 0))\n",
    "# 设置x轴的范围和刻度\n",
    "ax.set_xlim(-10, 10)\n",
    "ax.set_xticks(range(-10, 11))\n",
    "# 绘制x轴\n",
    "ax.plot([-10, 10], [0, 0], color='black', linewidth=1)\n",
    "# 在数轴右侧末端添加箭头\n",
    "ax.annotate('', xy=(10, 0), xytext=(9.5, 0), arrowprops=dict(arrowstyle='->', lw=1))\n",
    "# 绘制原点\n",
    "ax.scatter([0], [0], color='red')\n",
    "# 在原点上添加注释\n",
    "ax.annotate('Yuan Dian', xy=(0, 0), xytext=(0, -0.04), ha='center', fontsize=12)\n",
    "# 显示图形\n",
    "plt.show()"
   ]
  },
  {
   "cell_type": "markdown",
   "id": "e4bf2429",
   "metadata": {},
   "source": [
    "### 为什么要学习数轴？\n",
    "* 为了形象地学习相反数和绝对值\n",
    "* 数轴与神箭图都属于一维图表，可以做为相遇问题、追击问题、和差倍问题等的图形化解题工具。\n",
    "\n",
    "### 相反数\n",
    "像3和-3，5和-5这样，只有符号不同的两个数叫做互为相反数。也就是说3的相反数是-3，-3的相反数是3。<br>\n",
    "相反数在数轴上与原点的距离相同"
   ]
  },
  {
   "cell_type": "code",
   "execution_count": 26,
   "id": "ff26837e",
   "metadata": {},
   "outputs": [
    {
     "data": {
      "image/png": "[encoded data removed]",
      "text/plain": [
       "<Figure size 600x150 with 1 Axes>"
      ]
     },
     "metadata": {},
     "output_type": "display_data"
    }
   ],
   "source": [
    "import matplotlib.pyplot as plt\n",
    "fig, ax = plt.subplots(figsize=(6, 1.5))\n",
    "# 隐藏子图的上边框和右边框\n",
    "ax.spines['top'].set_visible(False)\n",
    "ax.spines['right'].set_visible(False)\n",
    "ax.spines['left'].set_visible(False)\n",
    "# 隐藏y轴的刻度\n",
    "ax.set_yticks([])\n",
    "# 设置子图的下边框为x轴\n",
    "ax.spines['bottom'].set_position(('data', 0))\n",
    "# 设置x轴的范围和刻度\n",
    "ax.set_xlim(-10, 10)\n",
    "ax.set_xticks(range(-10, 11))\n",
    "# 绘制x轴\n",
    "ax.plot([-10, 10], [0, 0], color='black', linewidth=1)\n",
    "# 在数轴右侧末端添加箭头\n",
    "ax.annotate('', xy=(10, 0), xytext=(9.5, 0), arrowprops=dict(arrowstyle='->', lw=1))\n",
    "# 绘制点A和点B\n",
    "ax.scatter([-3, 3], [0, 0], color='black')\n",
    "# 在点A和点B上添加注释\n",
    "ax.annotate('A', xy=(-3, 0), xytext=(-3, -0.04), ha='center', fontsize=12)\n",
    "ax.annotate('B', xy=(3, 0), xytext=(3, -0.04), ha='center', fontsize=12)\n",
    "# 显示图形\n",
    "plt.show()"
   ]
  },
  {
   "cell_type": "code",
   "execution_count": 35,
   "id": "25a4db10",
   "metadata": {},
   "outputs": [
    {
     "name": "stdout",
     "output_type": "stream",
     "text": [
      "正确！\n",
      "正确！\n"
     ]
    }
   ],
   "source": [
    "print(\"正确！\" if input(\"数轴上与原点距离为3的点有几个?\") == \"2\" else \"错误～\")\n",
    "print(\"正确！\" if input(\"0的相反数是?\") == \"0\" else \"错误～\")"
   ]
  },
  {
   "cell_type": "markdown",
   "id": "10391f5c",
   "metadata": {},
   "source": [
    "### 绝对值\n",
    "一般地，数轴上表示数a的点与原点的距离叫做数a的绝对值记作|a|"
   ]
  },
  {
   "cell_type": "code",
   "execution_count": 33,
   "id": "f545d60c",
   "metadata": {},
   "outputs": [
    {
     "name": "stdout",
     "output_type": "stream",
     "text": [
      "正确！\n",
      "正确！\n",
      "正确！\n"
     ]
    }
   ],
   "source": [
    "print(\"正确！\" if input(\"|10|=?\") == \"10\" else \"错误～\")\n",
    "print(\"正确！\" if input(\"|-10|=?\") == \"10\" else \"错误～\")\n",
    "print(\"正确！\" if input(\"|0|=?\") == \"0\" else \"错误～\")\n",
    "print(\"正确！\" if input(\"如果a!=0,那么|a|>0。A对 B错\").upper() == \"A\" else \"错误～\")\n",
    "print(\"正确！\" if input(\"一个数的绝对值越大, 则它在数轴上越靠右。A对 B错\").upper() == \"B\" else \"错误～\")\n",
    "print(\"正确！\" if input(\"一个数的绝对值越大, 则它在数轴上离原点越远。A对 B错\").upper() == \"A\" else \"错误～\")\n",
    "print(\"正确！\" if input(\"a和b是负数，且|a|>|b|。a和b谁更大？\").upper() == \"B\" else \"错误～\")"
   ]
  },
  {
   "cell_type": "markdown",
   "id": "175977e7",
   "metadata": {},
   "source": [
    "## 有理数的加减乘除和乘方运算\n",
    "### 有理数的加法\n",
    "#### 运算法则\n",
    "1. 同号两数相加，取相同的符号，并把绝对值相加。\n",
    "2. 绝对值不想等的异号两数相加，取绝对值较大的加数的符号，并用较大的绝对值减去较小的绝对值。互为相反数的两个数相加得0。\n",
    "3. 一个数同0相加，仍得这个数。\n",
    "4. 加法交换律、加法结合律仍然成立\n",
    "\n",
    "#### 复习\n",
    "* 加法交换律： a+b = b+a\n",
    "* 加法结合律： (a+b)+c = a+(b+c)"
   ]
  },
  {
   "cell_type": "code",
   "execution_count": 38,
   "id": "1c334054",
   "metadata": {},
   "outputs": [
    {
     "name": "stdout",
     "output_type": "stream",
     "text": [
      "错误～\n"
     ]
    }
   ],
   "source": [
    "print(\"正确！\" if input(\"23+(-18)+6+(-13)=?\") == \"-2\" else \"错误～\")\n"
   ]
  },
  {
   "cell_type": "markdown",
   "id": "194361c8",
   "metadata": {},
   "source": [
    "### 有理数减法\n",
    "减去一个数，等于加上这个数的相反数。"
   ]
  },
  {
   "cell_type": "code",
   "execution_count": 41,
   "id": "d1b73b51",
   "metadata": {},
   "outputs": [
    {
     "name": "stdout",
     "output_type": "stream",
     "text": [
      "正确！\n"
     ]
    }
   ],
   "source": [
    "print(\"正确！\" if input(\"-3/4-(-1/5)-(+1/2)=?\") == \"-1.05\" else \"错误～\")"
   ]
  },
  {
   "cell_type": "markdown",
   "id": "5ab3483d",
   "metadata": {},
   "source": [
    "### 有理数乘法\n",
    "#### 运算法则\n",
    "1. 两数相乘，同号得正，异号得负，并把绝对值相乘\n",
    "2. 任何数与0相乘，都得0\n",
    "3. 乘法交换律、乘法结合律、乘法分配律仍然成立\n",
    "#### 倒数\n",
    "乘积是1的两个数互为倒数。\n",
    "#### 复习\n",
    "* 乘法交换律：ab=ba\n",
    "* 乘法结合律：(ab)c=a(bc)\n",
    "* 乘法分配律：a(b+c)=ab+ac\n",
    "#### 学习运算律的作用\n",
    "1. 巧算，减少计算量\n",
    "2. 是解决很多数学问题的基础"
   ]
  },
  {
   "cell_type": "code",
   "execution_count": 49,
   "id": "654f0027",
   "metadata": {},
   "outputs": [
    {
     "name": "stdout",
     "output_type": "stream",
     "text": [
      "正确！\n",
      "正确！\n"
     ]
    }
   ],
   "source": [
    "print(\"正确！\" if input(\"(9/10-1/15)*30=?\")== \"25\" else \"错误～\")\n",
    "a = input(\"-5的倒数是?\")\n",
    "print(\"正确！\" if eval(a)*-5==1 else \"错误～\")"
   ]
  },
  {
   "cell_type": "markdown",
   "id": "481602f2",
   "metadata": {},
   "source": [
    "### 有理数除法\n",
    "1. 转为乘法：除以一个不等于0的数，等于乘以这个数的倒数，即：$a \\div b = a\\times\\frac{1}{b} (b \\neq 0)$\n",
    "2. 直接结算：两数相除，同号得正，异号得负，并把绝对值相除。0除以任何一个不等于0的数，都得0\n",
    "\n",
    "注意：除数/分母为0是数学的一个bug，所以只要提到是除法，分数，都会明确排除除数/分母为0的情况。"
   ]
  },
  {
   "cell_type": "code",
   "execution_count": 52,
   "id": "248793ed",
   "metadata": {},
   "outputs": [
    {
     "name": "stdout",
     "output_type": "stream",
     "text": [
      "正确！\n"
     ]
    }
   ],
   "source": [
    "a = input(\"23*(-5)-(-3)/(3/128)=?\")\n",
    "print(\"正确！\" if eval(a)/13 == 1 else \"错误～\")"
   ]
  },
  {
   "cell_type": "markdown",
   "id": "6399d4a7",
   "metadata": {},
   "source": [
    "### 有理数的乘方\n",
    "一般地，n个相同的因数a相乘，记作$a^n$，读作“a的n次方”或“a的n次幂”。<br>\n",
    "一个数可以看作这个数本身的一次方。\n",
    "<img src=\"attachment:%E4%B9%98%E6%96%B9%E6%9E%84%E6%88%90.jpg\" alt=\"image\" width=\"200px\">\n",
    "#### 有理数乘方的性质\n",
    "1. 负数的奇次幂是负数，负数的偶次幂是正数。\n",
    "2. 正数的任何次幂都是正数，0的任何**整数**次幂都是0。\n",
    "\n",
    "#### 练习题：\n",
    "1. $(-3)^3 = ? $\n",
    "2. $(-3)^4 = ? $\n",
    "3. $0^3=?$"
   ]
  },
  {
   "cell_type": "code",
   "execution_count": 4,
   "id": "06a89709",
   "metadata": {},
   "outputs": [
    {
     "name": "stdout",
     "output_type": "stream",
     "text": [
      "正确！\n"
     ]
    }
   ],
   "source": [
    "print(\"正确！\" if input(\"上方第1题答案是?\")== \"-27\" else \"错误～\")\n",
    "print(\"正确！\" if input(\"上方第2题答案是?\")== \"81\" else \"错误～\")\n",
    "print(\"正确！\" if input(\"上方第3题答案是?\")== \"0\" else \"错误～\")\n",
    "a = input(\"-3的4次方的Markdown怎么写?\")\n",
    "print(\"正确！\" if a.replace(\" \",\"\")== \"$(-3)^4$\" else \"错误～\")"
   ]
  },
  {
   "cell_type": "markdown",
   "id": "29b11478",
   "metadata": {},
   "source": [
    "### 有理数的运算顺序\n",
    "1. 有括号先算括号里的部分，按小括号、中括号、大括号依次进行\n",
    "2. 没括号则先乘方，再乘除，最后加减\n",
    "3. 同级运算，从左到右进行\n",
    "\n",
    "#### 练习题\n",
    "1. $2\\times(-3)^3-4\\times(-3)+15=?$\n",
    "2. $(-2)^3+(-3)\\times[(-4)^2+2]-(-3)^2\\div(-2)=?$"
   ]
  },
  {
   "cell_type": "code",
   "execution_count": 5,
   "id": "43121582",
   "metadata": {},
   "outputs": [
    {
     "name": "stdout",
     "output_type": "stream",
     "text": [
      "错误～\n",
      "错误～\n"
     ]
    }
   ],
   "source": [
    "print(\"正确！\" if input(\"上方第1题答案是?\")== \"-27\" else \"错误～\")\n",
    "print(\"正确！\" if input(\"上方第2题答案是?\")== \"-57.5\" else \"错误～\")"
   ]
  },
  {
   "cell_type": "markdown",
   "id": "6276bce1",
   "metadata": {},
   "source": [
    "### 科学计数法\n",
    "绝对值很大的数，用传统方法书写和读起来都很麻烦，用科学记数法则更简洁。比如-567 000 000记作$-5.67 \\times 10^8$, 读作“-5.67乘10的8次方”\n",
    "\n",
    "### 近似数\n",
    "* 很多情况下，很难取得准确数，或者不必使用准确数，而可以使用近似数。例如，宇宙现在的年龄约为200亿年。\n",
    "* 近似数与准确数的接近程度，可以用精确度表示。"
   ]
  },
  {
   "cell_type": "code",
   "execution_count": null,
   "id": "e3c12a27",
   "metadata": {},
   "outputs": [],
   "source": [
    "print(\"正确！\" if input(\"如果把513人近似为约有500人，那么误差是多少?\")== \"13\" else \"错误～\")\n",
    "print(\"正确！\" if input(\"3.14和3.142都是圆周率的近似值，哪个一个更精确?\")== \"3.142\" else \"错误～\")\n",
    "print(\"正确！\" if input(\"1.804精确到0.01后的结果是?\")== \"1.80\" else \"错误～\")"
   ]
  },
  {
   "attachments": {
    "zhengshi.gif": {
     "image/gif": "[encoded data removed]"
    }
   },
   "cell_type": "markdown",
   "id": "db3de023",
   "metadata": {},
   "source": [
    "# 整式的加减\n",
    "![zhengshi.gif](attachment:zhengshi.gif)\n",
    "## 为什么要学整式和整式的加减？\n",
    "为列方程和解方程做准备。\n",
    "## 整式\n",
    "单项式与多项式统称整式。\n",
    "### 单项式\n",
    "数字或字母的积，单独的一个数或一个字母也是单项式。\n",
    "1. 单项式中的数字因数叫做这个单项式的系数\n",
    "2. 一个单项式中，所有字母的指数的和叫做这个单项式的次数\n",
    "#### 练习题\n",
    "1. 单项式-100h的系数是多少?\n",
    "2. 单项式$5h^3$的次数是多少?"
   ]
  },
  {
   "cell_type": "code",
   "execution_count": 1,
   "id": "95ebfa03",
   "metadata": {},
   "outputs": [
    {
     "name": "stdout",
     "output_type": "stream",
     "text": [
      "错误～\n",
      "正确！\n"
     ]
    }
   ],
   "source": [
    "print(\"正确！\" if input(\"上方第1题的答案是?\")== \"-100\" else \"错误～\")\n",
    "print(\"正确！\" if input(\"上方第2题的答案是?\")== \"3\" else \"错误～\")"
   ]
  },
  {
   "cell_type": "markdown",
   "id": "af612224",
   "metadata": {},
   "source": [
    "### 几个单项式的和叫做多项式\n",
    "1. 多项式中的每个单项式，叫做多项式的项，不含字母的项叫做常数项。\n",
    "2. 多项式里，次数最高项的次数，叫做这个多项式的次数。多项式的次是衡量多项式复杂程度的标准。\n",
    "\n",
    "#### 练习题\n",
    "有一个多项式：$2x^3+3x+5$, 请问：\n",
    "1. 它的常数项是？\n",
    "2. 它的次数是？"
   ]
  },
  {
   "cell_type": "code",
   "execution_count": 11,
   "id": "a62a86d0",
   "metadata": {},
   "outputs": [
    {
     "name": "stdout",
     "output_type": "stream",
     "text": [
      "错误～\n",
      "错误～\n"
     ]
    }
   ],
   "source": [
    "print(\"正确！\" if input(\"上方第1题的答案是?\")== \"5\" else \"错误～\")\n",
    "print(\"正确！\" if input(\"上方第2题的答案是?\")== \"3\" else \"错误～\")"
   ]
  },
  {
   "cell_type": "markdown",
   "id": "47d0bdf8",
   "metadata": {},
   "source": [
    "## 整式的加减\n",
    "1. 所含字母相同，并且相同字母的指数也相同的项叫做同类项。几个常数项也是同类项。\n",
    "2. 识别出同类项后，同类项之间就可以运用交换律、结合律、分配律把多项式中的同类项进行合并。把多项式中的同类项合并成一项，叫做合并同类项。\n",
    "3. 合并同类项后，所得项的系数是合并前各同类项的系数的和，且字母连同它的指数不变。\n",
    "4. 如果有括号，一般先去括号再合并同类项。如果括号外的因数是正数，去括号后原括号内各项符号不变。反之，各项符号相反。\n",
    "\n",
    "### 练习题\n",
    "1. 请将$-3 \\times -2x-5x+3+2y^2-5y^2-5$"
   ]
  },
  {
   "cell_type": "code",
   "execution_count": 54,
   "id": "e923a8cc",
   "metadata": {},
   "outputs": [
    {
     "data": {
      "text/latex": [
       "请化简：$-3 \\times -2x-5x+3+2y^2-5y^2-5$"
      ],
      "text/plain": [
       "<IPython.core.display.Latex object>"
      ]
     },
     "metadata": {},
     "output_type": "display_data"
    },
    {
     "data": {
      "text/latex": [
       "你输入的值是$x-3y^2-1-1$"
      ],
      "text/plain": [
       "<IPython.core.display.Latex object>"
      ]
     },
     "metadata": {},
     "output_type": "display_data"
    },
    {
     "name": "stdout",
     "output_type": "stream",
     "text": [
      "等式等效\n",
      "x - 1*3*y**2 - 1 - 1 x - 3*y**2 - 2\n",
      "未简化\n",
      "错误～\n"
     ]
    }
   ],
   "source": [
    "from utils import compareLatexXY\n",
    "\n",
    "# 定义一个带参数的LaTeX表达式\n",
    "latex_expr = r\"$-3 \\times -2x-5x+3+2y^2-5y^2-5$\"\n",
    "display(Latex(\"请化简: {}\".format(latex_expr)))\n",
    "\n",
    "a = input(\"上方整式化简后的结果是：\")\n",
    "display(Latex(r\"你输入的值是: ${}$\".format(a)))\n",
    "\n",
    "same = compareLatexXY(latex_expr, a)\n",
    "print(\"正确！\" if same else \"错误～\")"
   ]
  },
  {
   "attachments": {
    "formula_1_1.gif": {
     "image/gif": "[encoded data removed]"
    }
   },
   "cell_type": "markdown",
   "id": "b00d9f89",
   "metadata": {},
   "source": [
    "# 一元一次方程\n",
    "* 方程：含有未知数的等式\n",
    "* 一元：只有一个未知数\n",
    "* 一次：含有未知数项的次数为1<br>\n",
    "这是方程中最简单的一种，以后会学习多元多次方程。\n",
    "\n",
    "## 等式的性质\n",
    "1. 如果a=b, 那么 $a \\pm c = b \\pm c$\n",
    "2. 如果a=b, 那么 ac = bc; 如果$a=b (c \\neq 0), 那么 \\frac{a}{c} = \\frac{b}{c}$\n",
    "![formula_1_1.gif](attachment:formula_1_1.gif)\n",
    "\n",
    "## 练习题\n",
    "1. 解方程 $\\frac{x+1}{2}-1=2+\\frac{2-x}{4}$\n",
    "2. 解方程 $3x+\\frac{x-1}{2}=3-\\frac{2x-1}{3}$"
   ]
  },
  {
   "cell_type": "markdown",
   "id": "48d1cf22",
   "metadata": {},
   "source": []
  },
  {
   "cell_type": "code",
   "execution_count": 10,
   "id": "dc0dc9d5",
   "metadata": {},
   "outputs": [
    {
     "name": "stdout",
     "output_type": "stream",
     "text": [
      "Python 2.7.17\n"
     ]
    }
   ],
   "source": [
    "!python -V"
   ]
  },
  {
   "cell_type": "code",
   "execution_count": null,
   "id": "691588e7",
   "metadata": {},
   "outputs": [],
   "source": []
  }
 ],
 "metadata": {
  "kernelspec": {
   "display_name": "Python 3 (ipykernel)",
   "language": "python",
   "name": "python3"
  },
  "language_info": {
   "codemirror_mode": {
    "name": "ipython",
    "version": 3
   },
   "file_extension": ".py",
   "mimetype": "text/x-python",
   "name": "python",
   "nbconvert_exporter": "python",
   "pygments_lexer": "ipython3",
   "version": "3.9.16"
  },
  "toc": {
   "base_numbering": 1,
   "nav_menu": {},
   "number_sections": true,
   "sideBar": true,
   "skip_h1_title": false,
   "title_cell": "Table of Contents",
   "title_sidebar": "Contents",
   "toc_cell": false,
   "toc_position": {},
   "toc_section_display": true,
   "toc_window_display": false
  }
 },
 "nbformat": 4,
 "nbformat_minor": 5
}
