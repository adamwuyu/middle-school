{
 "cells": [
  {
   "cell_type": "markdown",
   "id": "2629c772",
   "metadata": {},
   "source": [
    "# Jupyter notebook介绍\n",
    "Jupyer的意思是木星，notebook的意思是笔记本，连起来我们可以叫它木星笔记本。它可以运行代码，记笔记（包括数学公式），显示可视化内容。因为非常强大，所以经常用于：数据挖掘、人工智能、Python教学等领域。"
   ]
  },
  {
   "cell_type": "markdown",
   "id": "760a3ece",
   "metadata": {},
   "source": [
    "## 笔记的构成\n",
    "每篇笔记就是一个文件，点击左上角的“文件”然后点“打开”，然后打开对应的文件就能查看和运行对应的笔记。\n",
    "\n",
    "注意：在iPad的Carnets中，点击右上角的文件可以打开其它文件。\n",
    "\n",
    "每篇笔由一层层的单元格累积而成，常用单元格只有两种：\n",
    " * \"Markdown\" - 记录文字信息的地方，通过特定的格式可以实现标题、列表、数学公式等。这个单元格就是Markdown格式的\n",
    " * \"代码\" - 用Python编程的地方，可以实现简单计算、统计、AI训练等各种功能，下一个单元格就是代码格式的。"
   ]
  },
  {
   "cell_type": "code",
   "execution_count": 3,
   "id": "933f729a",
   "metadata": {
    "code_folding": [
     0
    ],
    "scrolled": false
   },
   "outputs": [
    {
     "name": "stdout",
     "output_type": "stream",
     "text": [
      "请输入年级（<10）：10\n",
      "恭喜您，已经初中毕业了！\n"
     ]
    }
   ],
   "source": [
    "# 这里是代码格式的单元格，点顶部菜单的“运行”按钮可以执行这个单元格里的代码\n",
    "import datetime\n",
    "grade = int(input(\"请输入年级（<10）：\"))\n",
    "if int(grade)>=10:\n",
    "  print(\"恭喜您，已经初中毕业了！\")\n",
    "else:\n",
    "  n = 9 - grade\n",
    "  # 获取当前日期\n",
    "  today = datetime.date.today()\n",
    "  # 假定中考日期是6月24日，如果不是，可以修改month和day的值\n",
    "  n_years_later = today.replace(year=today.year + n, month=6, day=24) \n",
    "  # 计算两个日期之间的天数\n",
    "  days_between = (n_years_later - today).days\n",
    "  if days_between>0:\n",
    "    print(\"距离中考还有\",days_between,\"天\")\n",
    "  else:\n",
    "    print(\"恭喜您，已经初中毕业了！\")"
   ]
  },
  {
   "cell_type": "markdown",
   "id": "f3703735",
   "metadata": {},
   "source": [
    "新建的单元格，可以通过顶部菜单实现“Markdown”和“代码”的切换。"
   ]
  },
  {
   "cell_type": "markdown",
   "id": "392a6a63",
   "metadata": {},
   "source": [
    "## 单元格的其它操作\n",
    " * 移动单元格位置：点击上下箭头可以移动单元格\n",
    " * 删除单元格：选中单元格后点击删除按钮可以删除当前单元格"
   ]
  },
  {
   "cell_type": "markdown",
   "id": "579df8ed",
   "metadata": {},
   "source": [
    "# 安装第三方库\n",
    "Jupyter执行!开头的命令，就是在命令行中执行，比如查看Python版本："
   ]
  },
  {
   "cell_type": "code",
   "execution_count": 6,
   "id": "6ce43efe",
   "metadata": {},
   "outputs": [
    {
     "name": "stdout",
     "output_type": "stream",
     "text": [
      "Python 3.11.0\n",
      "\r"
     ]
    }
   ],
   "source": [
    "!python -V"
   ]
  },
  {
   "cell_type": "markdown",
   "id": "bd9505e8",
   "metadata": {},
   "source": [
    "如果Python版本与Jupyter运行的版本一致，那么可以直接在Jupyter中安装三方包。如果不一致那么先在命令行工具中切换到对应版本的Python再安装（命令行工具中去掉开头的!）"
   ]
  },
  {
   "cell_type": "code",
   "execution_count": 13,
   "id": "28945ba5",
   "metadata": {},
   "outputs": [
    {
     "name": "stdout",
     "output_type": "stream",
     "text": [
      "Jupyter运行环境中Python版本:\n",
      "Python 3.11.3\n",
      "与上方结果对比, 如果一致, 可以在本笔记中安装三方库, 否则需要去命令行工具切换到对应环境再安装。\n"
     ]
    }
   ],
   "source": [
    "import sys\n",
    "print(\"Jupyter运行环境中Python版本:\")\n",
    "print(\"Python\",sys.version.split(\" \")[0])\n",
    "print(\"与上方结果对比, 如果一致, 可以在本笔记中安装三方库, 否则需要去命令行工具切换到对应环境再安装。\")"
   ]
  },
  {
   "cell_type": "code",
   "execution_count": null,
   "id": "6c01932a",
   "metadata": {},
   "outputs": [],
   "source": [
    "# sympify可以把表达式带入参数，算出结果\n",
    "!pip install sympy"
   ]
  },
  {
   "cell_type": "code",
   "execution_count": 8,
   "id": "43f06c6a",
   "metadata": {},
   "outputs": [
    {
     "name": "stdout",
     "output_type": "stream",
     "text": [
      "Defaulting to user installation because normal site-packages is not writeable\n",
      "Collecting latex2sympy2\n",
      "  Downloading latex2sympy2-1.9.1-py3-none-any.whl (89 kB)\n",
      "     ━━━━━━━━━━━━━━━━━━━━━━━━━━━━━━━━━━━━━━━ 89.8/89.8 kB 275.9 kB/s eta 0:00:00\n",
      "Requirement already satisfied: sympy>=1.4 in /private/var/containers/Bundle/Application/6F15A62E-7955-4309-9939-1BED387A7A63/Carnets.app/Library/lib/python3.11/site-packages (from latex2sympy2) (1.11.1)\n",
      "Collecting antlr4-python3-runtime==4.7.2\n",
      "  Downloading antlr4-python3-runtime-4.7.2.tar.gz (112 kB)\n",
      "     ━━━━━━━━━━━━━━━━━━━━━━━━━━━━━━━━━━━━━━━ 112.3/112.3 kB 1.7 MB/s eta 0:00:00\n",
      "  Preparing metadata (setup.py): started\n",
      "  Preparing metadata (setup.py): finished with status 'done'\n",
      "Requirement already satisfied: mpmath>=0.19 in /private/var/containers/Bundle/Application/6F15A62E-7955-4309-9939-1BED387A7A63/Carnets.app/Library/lib/python3.11/site-packages/mpmath-1.2.1-py3.11.egg (from sympy>=1.4->latex2sympy2) (1.2.1)\n",
      "Building wheels for collected packages: antlr4-python3-runtime\n",
      "  Building wheel for antlr4-python3-runtime (setup.py): started\n",
      "  Building wheel for antlr4-python3-runtime (setup.py): finished with status 'done'\n",
      "  Created wheel for antlr4-python3-runtime: filename=antlr4_python3_runtime-4.7.2-py3-none-any.whl size=140930 sha256=dcc28afeeea29e85391cc19ac3c681c2de7f903b45aba9f34e8cded83dde1cf3\n",
      "  Stored in directory: /private/var/mobile/Containers/Data/Application/9DF0BCC4-5773-4469-B205-DB549953E4F4/Library/Caches/pip/wheels/36/1b/2a/424a2a9e15c670da730c241918fdf3bf04c9374b8ec99a35a0\n",
      "Successfully built antlr4-python3-runtime\n",
      "Installing collected packages: antlr4-python3-runtime, latex2sympy2\n",
      "Successfully installed antlr4-python3-runtime-4.7.2 latex2sympy2-1.9.1\n",
      "\r"
     ]
    },
    {
     "name": "stderr",
     "output_type": "stream",
     "text": [
      "\n",
      "[notice] A new release of pip available: 22.3.1 -> 23.2\n",
      "[notice] To update, run: pip install --upgrade pip\n",
      "\r"
     ]
    }
   ],
   "source": [
    "# 把公式转为可以用sympify计算出结果的代码\n",
    "!pip install latex2sympy2"
   ]
  },
  {
   "cell_type": "code",
   "execution_count": 10,
   "id": "be32c79b",
   "metadata": {},
   "outputs": [
    {
     "ename": "ModuleNotFoundError",
     "evalue": "No module named 'latex2sympy2'",
     "output_type": "error",
     "traceback": [
      "\u001b[0;31m---------------------------------------------------------------------------\u001b[0m",
      "\u001b[0;31mModuleNotFoundError\u001b[0m                       Traceback (most recent call last)",
      "Cell \u001b[0;32mIn [10], line 3\u001b[0m\n\u001b[1;32m      1\u001b[0m \u001b[38;5;66;03m# 验证安装\u001b[39;00m\n\u001b[1;32m      2\u001b[0m \u001b[38;5;28;01mfrom\u001b[39;00m \u001b[38;5;21;01msympy\u001b[39;00m \u001b[38;5;28;01mimport\u001b[39;00m \u001b[38;5;241m*\u001b[39m\n\u001b[0;32m----> 3\u001b[0m \u001b[38;5;28;01mfrom\u001b[39;00m \u001b[38;5;21;01mlatex2sympy2\u001b[39;00m \u001b[38;5;28;01mimport\u001b[39;00m latex2sympy\n\u001b[1;32m      4\u001b[0m \u001b[38;5;28;01mfrom\u001b[39;00m \u001b[38;5;21;01mIPython\u001b[39;00m\u001b[38;5;21;01m.\u001b[39;00m\u001b[38;5;21;01mdisplay\u001b[39;00m \u001b[38;5;28;01mimport\u001b[39;00m display, Latex\n\u001b[1;32m      6\u001b[0m \u001b[38;5;66;03m# 定义一个带参数的LaTeX表达式\u001b[39;00m\n",
      "\u001b[0;31mModuleNotFoundError\u001b[0m: No module named 'latex2sympy2'"
     ]
    }
   ],
   "source": [
    "# 验证安装\n",
    "from sympy import *\n",
    "from latex2sympy2 import latex2sympy\n",
    "from IPython.display import display, Latex\n",
    "\n",
    "# 定义一个带参数的LaTeX表达式\n",
    "latex_expr = r\"$-3 \\times -2x-5x+3+2y^2-5y^2-5$\"\n",
    "display(Latex(latex_expr))\n",
    "\n",
    "x, y = symbols('x y')\n",
    "expr = sympify(latex2sympy(latex_expr))\n",
    "result = expr.subs(x, 3).subs(y, 4)\n",
    "display(Latex(r\"如果结果是-47, 那么sympy, latex2sympy2就安装成功了: {}\".format(result)))"
   ]
  },
  {
   "cell_type": "code",
   "execution_count": null,
   "id": "60115c21",
   "metadata": {},
   "outputs": [],
   "source": []
  },
  {
   "cell_type": "code",
   "execution_count": null,
   "id": "7a56f090",
   "metadata": {},
   "outputs": [],
   "source": []
  }
 ],
 "metadata": {
  "kernelspec": {
   "display_name": "Python 3 (ipykernel)",
   "language": "python",
   "name": "python3"
  },
  "language_info": {
   "codemirror_mode": {
    "name": "ipython",
    "version": 3
   },
   "file_extension": ".py",
   "mimetype": "text/x-python",
   "name": "python",
   "nbconvert_exporter": "python",
   "pygments_lexer": "ipython3",
   "version": "3.11.0"
  },
  "toc": {
   "base_numbering": 1,
   "nav_menu": {},
   "number_sections": true,
   "sideBar": true,
   "skip_h1_title": false,
   "title_cell": "Table of Contents",
   "title_sidebar": "Contents",
   "toc_cell": false,
   "toc_position": {},
   "toc_section_display": true,
   "toc_window_display": false
  }
 },
 "nbformat": 4,
 "nbformat_minor": 5
}
