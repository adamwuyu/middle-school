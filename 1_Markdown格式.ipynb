{
 "cells": [
  {
   "cell_type": "markdown",
   "metadata": {},
   "source": [
    "版权说明：本笔记改编自[Markdown-in-Jupyter-Notebook](https://github.com/umeshpalai/Markdown-in-Jupyter-Notebook-)，向原作者致敬！\n",
    "# 本笔记的作用\n",
    "本笔记用于介绍常用的笔记格式如何实现，如果忘了可以来这里看看。本文档包括：\n",
    "1. 标题\n",
    "2. 加粗\n",
    "3. 斜体\n",
    "4. 无序列表\n",
    "5. 有序列表\n",
    "6. 数学符号\n",
    "7. 锁进引用\n",
    "8. 换行\n",
    "9. 图片\n",
    "10. 颜色\n",
    "11. 链接"
   ]
  },
  {
   "cell_type": "markdown",
   "metadata": {},
   "source": [
    "# 1. 标题\n",
    "\n",
    "格式是：#+空格+标题正文:\n",
    "\n",
    "# 一级标题\n",
    "## 二级标题\n",
    "### 三级标题\n",
    "#### 四级标题\n",
    "\n",
    "注意：本笔记里提到的空格和其它标点符号都是指英文的标点符号。"
   ]
  },
  {
   "cell_type": "markdown",
   "metadata": {},
   "source": [
    "# 2. 粗体\n",
    "\n",
    "使用双星号'**'标示加粗的部分\n",
    "\n",
    "**这里是粗体**"
   ]
  },
  {
   "cell_type": "markdown",
   "metadata": {},
   "source": [
    "# 斜体\n",
    "使用单星号*表示斜体部分\n",
    "\n",
    "*这里是斜体*"
   ]
  },
  {
   "cell_type": "markdown",
   "metadata": {},
   "source": [
    "# 4. 无序列表: \n",
    "\n",
    "无序列表的每个列表项前面有一个圆点。\n",
    "\n",
    "1.圆点:\n",
    "用 中横线或者星号+空格来表示这一行是列表，前面会出现圆点符号 \n",
    "\n",
    "\n",
    "2.子列表:\n",
    "子列表前面加上TAB缩进即可。\n",
    "\n",
    "\n",
    "示例：\n",
    "\n",
    "- 这是列表 \n",
    "* 这是列表\n",
    "\n",
    "  - 这是子列表\n",
    "  * 这是子列表"
   ]
  },
  {
   "cell_type": "markdown",
   "metadata": {},
   "source": [
    "# 5. 有序列表: \n",
    "\n",
    "有序列表的每个列表项前面有个数字，它的实现方式是 数字+.+空格+正文，示例：\n",
    "\n",
    "1. 第一行\n",
    "2. 第二行\n",
    "\n",
    "\n",
    "    1. 子列表第一行\n",
    "    2. 子列表第二行"
   ]
  },
  {
   "cell_type": "markdown",
   "metadata": {},
   "source": [
    "# 6. 数学符号和公式\n",
    "\n",
    "数学符号和公式需要用美元符号包围起来：$数学符号$。\n",
    "被美元包围起来之后，可以通过特定的符号表示特定的数学符号，比如^表示乘方，_表示下标，log_表示log\n",
    "\n",
    "$x^2$\n",
    "\n",
    "$x_2$\n",
    "\n",
    "$log_2^x$\n",
    "\n",
    "$√ 500 - 5 × 10 ÷ 100 =$ ?\n",
    "\n"
   ]
  },
  {
   "cell_type": "code",
   "execution_count": 1,
   "metadata": {},
   "outputs": [
    {
     "name": "stdout",
     "output_type": "stream",
     "text": [
      "正确\n"
     ]
    }
   ],
   "source": [
    "print(\"正确\" if input(\"输入数学公式a的2次方的Markdown: \") == \"$a^2$\" else (\"错误\", \"正确\"))"
   ]
  },
  {
   "cell_type": "markdown",
   "metadata": {},
   "source": [
    "# 7. 缩进引用\n",
    "\n",
    "用 大于符号+空格 即可实现\n",
    "\n",
    "> This is 1st line of 1st Blockquotes<br>\n",
    "This is 2nd line of 1st Blockquotes\n",
    "\n",
    ">This is 1st line of 2nd Blockquotes<br>\n",
    "This is 2nd line of 2nd Blockquotes\n"
   ]
  },
  {
   "cell_type": "markdown",
   "metadata": {},
   "source": [
    "# 8. 换行和分段 \n",
    "\n",
    "使用 <br> 标记实现换行，或者两次回车实现分段（段与段之间有空隙）\n",
    "\n",
    "\n",
    "第一行 <br> 第二行\n",
    "\n",
    "\n",
    "新段落\n"
   ]
  },
  {
   "attachments": {
    "download.png": {
     "image/png": "[encoded data removed]"
    }
   },
   "cell_type": "markdown",
   "metadata": {},
   "source": [
    "# 9. 图片\n",
    "\n",
    "双击Markdown单元格进入编辑状态，直接把图片拖进这个单元格里，图片就会以笔记的附件的形式保存起来（不要使用太大的图片）。\n",
    "\n",
    "\n",
    "![download.png](attachment:download.png) "
   ]
  },
  {
   "cell_type": "markdown",
   "metadata": {},
   "source": [
    "# 10. 颜色\n",
    "\n",
    "使用font标记来标记颜色: <font color=blue|red|green|pink|yellow>Text</font> 并不是其它所有Markdown标记都能跟font标记配合使用，所以注意检查结果。\n",
    "\n",
    "\n",
    "<font color=blue>蓝色字</font>\n",
    "\n",
    "<font color=red>红色字</font>\n",
    "\n",
    "<font color=yellow>黄色字</font>"
   ]
  },
  {
   "cell_type": "markdown",
   "metadata": {},
   "source": [
    "# 11. 链接 \n",
    "\n",
    "这是链接的示例，双击看看怎么实现的吧： \n",
    "\n",
    "[百度](https://www.baidu.com/)"
   ]
  },
  {
   "cell_type": "markdown",
   "metadata": {},
   "source": [
    "End"
   ]
  }
 ],
 "metadata": {
  "kernelspec": {
   "display_name": "Python 3 (ipykernel)",
   "language": "python",
   "name": "python3"
  },
  "language_info": {
   "codemirror_mode": {
    "name": "ipython",
    "version": 3
   },
   "file_extension": ".py",
   "mimetype": "text/x-python",
   "name": "python",
   "nbconvert_exporter": "python",
   "pygments_lexer": "ipython3",
   "version": "3.9.16"
  },
  "toc": {
   "base_numbering": 1,
   "nav_menu": {},
   "number_sections": true,
   "sideBar": true,
   "skip_h1_title": false,
   "title_cell": "Table of Contents",
   "title_sidebar": "Contents",
   "toc_cell": false,
   "toc_position": {},
   "toc_section_display": true,
   "toc_window_display": false
  }
 },
 "nbformat": 4,
 "nbformat_minor": 2
}
