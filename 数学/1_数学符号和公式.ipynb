{
 "cells": [
  {
   "cell_type": "markdown",
   "metadata": {},
   "source": [
    "# 美元符号$$\n",
    "数学符号和公式需要用美元符号包围起来：$数学符号$。<br>\n",
    "被美元包围起来之后，可以通过特定的符号表示特定的数学符号。"
   ]
  },
  {
   "cell_type": "markdown",
   "metadata": {},
   "source": [
    "# 加减乘除\n",
    "|数学符号|Markdown|示例|效果|\n",
    "|----|----|----|----|\n",
    "|上标|^|x^2|$x^2$|\n",
    "|下标|^|x_2|$x_2$|\n",
    "|组合|{}|a^{b+c}|$a^{b+c}$|\n",
    "|加|+|a+b|$a+b$|\n",
    "|减|-|a-b|$a-b$|\n",
    "|乘|\\times|a \\times b|$a \\times b$|\n",
    "|除|\\div|a \\div b|$a \\div b$|\n",
    "|幂|\\log|\\log_a^b|$\\log_a^b$|\n",
    "|分数|\\frac{分子}{分母}|\\frac{a}{b}|$ \\frac{a}{b} $|\n",
    "|大于|>|a > b|$ a > b $|\n",
    "|大于等于|\\geq|a \\geq b|$ a \\geq b $|\n",
    "|小于|<|a < b|$ a < b $|\n",
    "|小于等于|\\leq|a \\leq b|$ a \\leq b $|\n",
    "|不等于|\\neq|a \\neq b|$ a \\neq b $|\n",
    "|约等于|\\approx|1 \\div 3 \\approx 0.33|$1 \\div 3 \\approx 0.33$|\n",
    "|误差|\\pm|a=3 \\pm 0.1|$a=3 \\pm 0.1 $|\n",
    "|属于|\\in|a \\in b|$a \\in b$|\n",
    "|不属于|\\notin|a \\notin b|$a \\notin b$|\n",
    "|子集|\\subset|a \\subset b|$a \\subset b$|\n",
    "|真子集|\\subseteq|a \\subseteq b|$a \\subseteq b$|\n",
    "|并集|\\bigcup|a \\bigcup b|$a \\bigcup b$|\n",
    "|子集|\\bigcap|a \\bigcap b|$a \\bigcap b$|\n",
    "|派|\\pi|\\pi|$\\pi$|\n",
    "|因为|\\because|\\because|$\\because$|\n",
    "|所以|\\therefore|\\therefore|$\\therefore$|\n",
    "|无穷|\\infty|\\infty|$\\infty$|\n",
    "|积分|\\int|\\int_1^a|$\\int_1^a$|\n",
    "|求和|\\sum|\\sum_1^n|$\\sum_1^n$|\n",
    "\n"
   ]
  },
  {
   "cell_type": "code",
   "execution_count": 1,
   "metadata": {},
   "outputs": [
    {
     "name": "stdout",
     "output_type": "stream",
     "text": [
      "正确\n",
      "正确\n"
     ]
    }
   ],
   "source": [
    "print(\"正确\" if input(\"输入数学公式a的2次方的Markdown: \") == \"$a^2$\" else (\"错误\", \"正确\"))\n",
    "print(\"正确\" if input(\"输入数学符号a2(其中2为下标)的Markdown: \") == \"$a_2$\" else (\"错误\", \"正确\"))\n",
    "print(\"正确\" if input(\"输入数学公式x的a+1次方的Markdown: \") == \"$x^{a+1}$\" else (\"错误\", \"正确\"))"
   ]
  },
  {
   "cell_type": "markdown",
   "metadata": {},
   "source": [
    "# 希腊字母表\n",
    "|字母|写法|效果|\n",
    "|----|----|----|\n",
    "|alpha|\\alpha \\Alpha|$\\alpha \\Alpha$|\n",
    "|beta|\\beta \\Beta|$\\beta \\Beta$|\n",
    "|gamma|\\gamma \\Gamma|$\\gamma \\Gamma$|\n",
    "|delta|\\delta \\Delta|$\\delta \\Delta$|\n",
    "|epsilon|\\epsilon \\Epsilon|$\\epsilon \\Epsilon$|\n",
    "|zeta|\\zeta \\Zeta|$\\zeta \\Zeta$|\n",
    "|eta|\\eta \\Eta|$\\eta \\Eta$|\n",
    "|theta|\\theta \\Theta|$\\theta \\Theta$|\n",
    "|iota|\\iota \\Iota|$\\iota \\Iota$|\n",
    "|kappa|\\kappa \\Kappa|$\\kappa \\Kappa$|\n",
    "|lambda|\\lambda \\Lambda|$\\lambda \\Lambda$|\n",
    "|mu|\\mu \\Mu|$\\mu \\Mu$|\n",
    "|nu|\\nu \\Nu|$\\nu \\Nu$|\n",
    "|xi|\\xi \\Xi|$\\xi \\Xi$|\n",
    "|omicron|\\omicron \\Omicron|$\\omicron \\Omicron$|\n",
    "|pi|\\pi \\Pi|$\\pi \\Pi$|\n",
    "|rho|\\rho \\Rho|$\\rho \\Rho$|\n",
    "|sigma|\\sigma \\Sigma|$\\sigma \\Sigma$|\n",
    "|tau|\\tau \\Tau|$\\tau \\Tau$|\n",
    "|upsilon|\\upsilon \\Upsilon|$\\upsilon \\Upsilon$|\n",
    "|phi|\\phi \\Phi|$\\phi \\Phi$|\n",
    "|chi|\\chi \\Chi|$\\chi \\Chi$|\n",
    "|psi|\\psi \\Psi|$\\psi \\Psi$|\n",
    "|omega|\\omega \\Omega|$\\omega \\Omega$|"
   ]
  }
 ],
 "metadata": {
  "kernelspec": {
   "display_name": "Python 3 (ipykernel)",
   "language": "python",
   "name": "python3"
  },
  "language_info": {
   "codemirror_mode": {
    "name": "ipython",
    "version": 3
   },
   "file_extension": ".py",
   "mimetype": "text/x-python",
   "name": "python",
   "nbconvert_exporter": "python",
   "pygments_lexer": "ipython3",
   "version": "3.9.16"
  },
  "toc": {
   "base_numbering": 1,
   "nav_menu": {},
   "number_sections": true,
   "sideBar": true,
   "skip_h1_title": false,
   "title_cell": "Table of Contents",
   "title_sidebar": "Contents",
   "toc_cell": false,
   "toc_position": {},
   "toc_section_display": true,
   "toc_window_display": false
  }
 },
 "nbformat": 4,
 "nbformat_minor": 2
}
