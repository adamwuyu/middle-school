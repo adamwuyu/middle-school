{
 "cells": [
  {
   "cell_type": "markdown",
   "id": "2629c772",
   "metadata": {},
   "source": [
    "# Jupyter notebook介绍\n",
    "Jupyer的意思是木星，notebook的意思是笔记本，连起来我们可以叫它木星笔记本。它可以运行代码，记笔记（包括数学公式），显示可视化内容。因为非常强大，所以经常用于：数据挖掘、人工智能、Python教学等领域。"
   ]
  },
  {
   "cell_type": "markdown",
   "id": "760a3ece",
   "metadata": {},
   "source": [
    "## 笔记的构成\n",
    "每篇笔记就是一个文件，点击左上角的“文件”然后点“打开”，然后打开对应的文件就能查看和运行对应的笔记。\n",
    "每篇笔由一层层的单元格累积而成，常用单元格只有两种：\n",
    "\"Markdown\" - 记录文字信息的地方，通过特定的格式可以实现标题、列表、数学公式等。这个单元格就是Markdown格式的\n",
    "\"代码\" - 用Python编程的地方，可以实现简单计算、统计、AI训练等各种功能，下一个单元格就是代码格式的。"
   ]
  },
  {
   "cell_type": "code",
   "execution_count": 1,
   "id": "933f729a",
   "metadata": {},
   "outputs": [
    {
     "name": "stdout",
     "output_type": "stream",
     "text": [
      "请输入年级7\n",
      "7\n"
     ]
    }
   ],
   "source": [
    "# 这里是代码格式的单元格，点顶部菜单的“运行”按钮可以执行这个单元格里的代码\n",
    "grade = input(\"请输入年级：\")\n",
    "print(年级)"
   ]
  },
  {
   "cell_type": "code",
   "execution_count": null,
   "id": "579df8ed",
   "metadata": {},
   "outputs": [],
   "source": []
  },
  {
   "cell_type": "code",
   "execution_count": null,
   "id": "6c01932a",
   "metadata": {},
   "outputs": [],
   "source": []
  }
 ],
 "metadata": {
  "kernelspec": {
   "display_name": "Python 3 (ipykernel)",
   "language": "python",
   "name": "python3"
  },
  "language_info": {
   "codemirror_mode": {
    "name": "ipython",
    "version": 3
   },
   "file_extension": ".py",
   "mimetype": "text/x-python",
   "name": "python",
   "nbconvert_exporter": "python",
   "pygments_lexer": "ipython3",
   "version": "3.9.16"
  },
  "toc": {
   "base_numbering": 1,
   "nav_menu": {},
   "number_sections": true,
   "sideBar": true,
   "skip_h1_title": false,
   "title_cell": "Table of Contents",
   "title_sidebar": "Contents",
   "toc_cell": false,
   "toc_position": {},
   "toc_section_display": true,
   "toc_window_display": false
  }
 },
 "nbformat": 4,
 "nbformat_minor": 5
}
