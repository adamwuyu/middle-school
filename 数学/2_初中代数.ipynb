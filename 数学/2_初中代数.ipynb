{
 "cells": [
  {
   "cell_type": "markdown",
   "id": "81eda731-ae29-485a-8ff6-b20531fd2b05",
   "metadata": {},
   "source": [
    "# 数域"
   ]
  },
  {
   "attachments": {
    "c5be41cf-a2b3-4310-8332-d1c381d31856.gif": {
     "image/gif": "[encoded data removed]"
    }
   },
   "cell_type": "markdown",
   "id": "4f26f715",
   "metadata": {},
   "source": [
    "![shuyu.gif](attachment:c5be41cf-a2b3-4310-8332-d1c381d31856.gif)"
   ]
  },
  {
   "cell_type": "code",
   "execution_count": null,
   "id": "dd7d4449",
   "metadata": {},
   "outputs": [],
   "source": [
    "# 引入思维导图插件\n",
    "%load_ext dmind\n",
    "%dmindheader"
   ]
  },
  {
   "cell_type": "code",
   "execution_count": null,
   "id": "88dab545",
   "metadata": {},
   "outputs": [],
   "source": [
    "%%dmind markdown right\n",
    "# 数(小学)\n",
    "## 整数\n",
    "### 按大小分\n",
    "#### 正整数\n",
    "#### 0\n",
    "#### 负整数\n",
    "### 按奇偶分\n",
    "#### 奇数\n",
    "#### 偶数\n",
    "### 按因数分\n",
    "#### 质数\n",
    "#### 0\n",
    "#### 合数\n",
    "## 自然数\n",
    "### 0\n",
    "### 正整数\n",
    "## 小数\n",
    "### 有限小数\n",
    "### 无限小数\n",
    "#### 无限循环小数\n",
    "#### 无限不循环小数（无理数）\n",
    "## 分数\n",
    "### 真分数\n",
    "### 代分数"
   ]
  },
  {
   "cell_type": "code",
   "execution_count": null,
   "id": "fc8edfda",
   "metadata": {},
   "outputs": [],
   "source": [
    "\n",
    "%%dmind markdown right\n",
    "# 复数(中学)\n",
    "## 实数\n",
    "### 有理数\n",
    "#### 正有理数\n",
    "#### 0\n",
    "#### 负有理数\n",
    "### 无理数\n",
    "#### 正无理数\n",
    "#### 负无理数\n",
    "## 虚数"
   ]
  },
  {
   "cell_type": "markdown",
   "id": "7f49aa43",
   "metadata": {},
   "source": [
    "# 有理数\n",
    "## 有理数的定义\n",
    "1. 整数都是有理数\n",
    "2. 分子分母都是整数的分数都是有理数\n",
    "3. 有理数按大小可以分为：负有理数、零、正有理数\n",
    "## 有理数的特点\n",
    "1. 如果把一个有理数转换为小数，那么它一定是有限小数或者循环小数"
   ]
  },
  {
   "cell_type": "code",
   "execution_count": null,
   "id": "6104ce91",
   "metadata": {},
   "outputs": [],
   "source": [
    "print(\"正确！\" if input(\"1,1/3,0,-1/3,-1都是有理数：A对 B错\").upper() == \"A\" else \"错误～\")\n",
    "print(\"正确！\" if input(\"如果一个数是分数，那么它一定是有理数：A对 B错\").upper() == \"B\" else \"错误～\")"
   ]
  },
  {
   "cell_type": "markdown",
   "id": "e3b0b67d",
   "metadata": {},
   "source": [
    "## 为什么要学习有理数这个概念？TBD\n",
    "因为在数学花园中出现了特别有个性的一员：无理数（无限不循环小数，比如π）,求最大公因数/最小公倍数，奇偶判断等数学方法对无理数都不适用。于是把数分为有理数和无理数，这样就可以放心地对有理数使用以前学习的各种数学方法进行计算了。"
   ]
  },
  {
   "cell_type": "markdown",
   "id": "abd031ea",
   "metadata": {},
   "source": [
    "## 正数和负数\n",
    "\n",
    "* 比0大的是正数，正数以+号开头，也可省去+号；\n",
    "* 比0小的是负数，负数以-号开头；\n",
    "* 正数开头的+和负数开头的-叫做<b>“符号”<b>"
   ]
  },
  {
   "cell_type": "markdown",
   "id": "19fcd797",
   "metadata": {},
   "source": []
  },
  {
   "cell_type": "code",
   "execution_count": null,
   "id": "a5d9dbc1",
   "metadata": {},
   "outputs": [],
   "source": [
    "i = input(\"某国去年去年进口额为1200亿美元, 今年进口额为900亿美元, 今年进口额增长率是多少？\")\n",
    "print(\"正确！\" if i == \"-25%\" else \"错误～\")"
   ]
  },
  {
   "cell_type": "markdown",
   "id": "6dec7cfe",
   "metadata": {},
   "source": [
    "## 数轴\n",
    "在数学中，可以用一条直线上的点表示数，这条直线叫做数轴。\n",
    "* 原点：在直线上任取一个点表示数0，这个点叫做原点\n",
    "* 方向：通常规定直线上从原点向右（或上）为正方向，通常规定直线上从原点向左（或下）为负方向\n",
    "* 刻度：选取适当的长度为单位长度，以原点为起点每隔一个单位长度做一个记号，这就是刻度\n",
    "\n",
    "\n",
    "注意：画数轴时，<b>原点、方向、刻度</b>缺一不可。"
   ]
  },
  {
   "cell_type": "code",
   "execution_count": null,
   "id": "5121bfa7",
   "metadata": {},
   "outputs": [],
   "source": [
    "import matplotlib.pyplot as plt\n",
    "fig, ax = plt.subplots(figsize=(6, 1.5))\n",
    "# 隐藏子图的上边框和右边框\n",
    "ax.spines['top'].set_visible(False)\n",
    "ax.spines['right'].set_visible(False)\n",
    "ax.spines['left'].set_visible(False)\n",
    "# 隐藏y轴的刻度\n",
    "ax.set_yticks([])\n",
    "# 设置子图的下边框为x轴\n",
    "ax.spines['bottom'].set_position(('data', 0))\n",
    "# 设置x轴的范围和刻度\n",
    "ax.set_xlim(-10, 10)\n",
    "ax.set_xticks(range(-10, 11))\n",
    "# 绘制x轴\n",
    "ax.plot([-10, 10], [0, 0], color='black', linewidth=1)\n",
    "# 在数轴右侧末端添加箭头\n",
    "ax.annotate('', xy=(10, 0), xytext=(9.5, 0), arrowprops=dict(arrowstyle='->', lw=1))\n",
    "# 绘制原点\n",
    "ax.scatter([0], [0], color='red')\n",
    "# 在原点上添加注释\n",
    "ax.annotate('Yuan Dian', xy=(0, 0), xytext=(0, -0.04), ha='center', fontsize=12)\n",
    "# 显示图形\n",
    "plt.show()"
   ]
  },
  {
   "cell_type": "code",
   "execution_count": null,
   "id": "38b0bbe4",
   "metadata": {},
   "outputs": [],
   "source": [
    "print(\"正确\" if input(\"上图中数轴原点向左的方向是: A正方向 B负方向\").upper() == \"B\" else \"错误～\")"
   ]
  },
  {
   "cell_type": "markdown",
   "id": "e4bf2429",
   "metadata": {},
   "source": [
    "### 为什么要学习数轴？\n",
    "* 为了形象地学习相反数和绝对值\n",
    "* 数轴与神箭图都属于一维图表，可以做为相遇问题、追击问题、和差倍问题等的图形化解题工具。\n",
    "\n",
    "### 相反数\n",
    "1. 像3和-3，5和-5这样，只有符号不同的两个数叫做互为相反数，0的相反数是0。也就是说3的相反数是-3，-3的相反数是3\n",
    "2. 相反数在数轴上与原点的距离相同。\n",
    "3. a与b互为相反数，则有a+b=0, a=-b, 反之亦成立"
   ]
  },
  {
   "cell_type": "code",
   "execution_count": null,
   "id": "ff26837e",
   "metadata": {},
   "outputs": [],
   "source": [
    "import matplotlib.pyplot as plt\n",
    "fig, ax = plt.subplots(figsize=(6, 1.5))\n",
    "# 隐藏子图的上边框和右边框\n",
    "ax.spines['top'].set_visible(False)\n",
    "ax.spines['right'].set_visible(False)\n",
    "ax.spines['left'].set_visible(False)\n",
    "# 隐藏y轴的刻度\n",
    "ax.set_yticks([])\n",
    "# 设置子图的下边框为x轴\n",
    "ax.spines['bottom'].set_position(('data', 0))\n",
    "# 设置x轴的范围和刻度\n",
    "ax.set_xlim(-10, 10)\n",
    "ax.set_xticks(range(-10, 11))\n",
    "# 绘制x轴\n",
    "ax.plot([-10, 10], [0, 0], color='black', linewidth=1)\n",
    "# 在数轴右侧末端添加箭头\n",
    "ax.annotate('', xy=(10, 0), xytext=(9.5, 0), arrowprops=dict(arrowstyle='->', lw=1))\n",
    "# 绘制点A和点B\n",
    "ax.scatter([-3, 3], [0, 0], color='black')\n",
    "# 在点A和点B上添加注释\n",
    "ax.annotate('A', xy=(-3, 0), xytext=(-3, -0.04), ha='center', fontsize=12)\n",
    "ax.annotate('B', xy=(3, 0), xytext=(3, -0.04), ha='center', fontsize=12)\n",
    "# 显示图形\n",
    "plt.show()"
   ]
  },
  {
   "cell_type": "code",
   "execution_count": null,
   "id": "25a4db10",
   "metadata": {},
   "outputs": [],
   "source": [
    "print(\"正确！\" if input(\"数轴上与原点距离为3的点有几个?\") == \"2\" else \"错误～\")\n",
    "print(\"正确！\" if input(\"0的相反数是?\") == \"0\" else \"错误～\")\n",
    "print(\"正确！\" if input(\"如果a+b=0, 则a与b互为相反数: A正确 B错误\").upper() == \"A\" else \"错误～\")"
   ]
  },
  {
   "cell_type": "markdown",
   "id": "10391f5c",
   "metadata": {},
   "source": [
    "### 绝对值\n",
    "1. 数轴上表示数a的点与原点的距离叫做数a的绝对值记作|a|\n",
    "2. 若|a|=a, 则 $a \\geq 0$;若|a|=-a, 则 $a \\leq 0$\n",
    "3. 正数>0>负数，两个负数，绝对值大的反而小"
   ]
  },
  {
   "cell_type": "code",
   "execution_count": null,
   "id": "f545d60c",
   "metadata": {},
   "outputs": [],
   "source": [
    "print(\"正确！\" if input(\"|10|=?\") == \"10\" else \"错误～\")\n",
    "print(\"正确！\" if input(\"|-10|=?\") == \"10\" else \"错误～\")\n",
    "print(\"正确！\" if input(\"|0|=?\") == \"0\" else \"错误～\")\n",
    "print(\"正确！\" if input(\"如果a!=0,那么|a|>0。A对 B错\").upper() == \"A\" else \"错误～\")\n",
    "print(\"正确！\" if input(\"一个数的绝对值越大, 则它在数轴上越靠右。A对 B错\").upper() == \"B\" else \"错误～\")\n",
    "print(\"正确！\" if input(\"一个数的绝对值越大, 则它在数轴上离原点越远。A对 B错\").upper() == \"A\" else \"错误～\")\n",
    "print(\"正确！\" if input(\"a和b是负数，且|a|>|b|。a和b谁更大？\").upper() == \"B\" else \"错误～\")"
   ]
  },
  {
   "cell_type": "markdown",
   "id": "175977e7",
   "metadata": {},
   "source": [
    "## 有理数的加减乘除和乘方运算\n",
    "### 有理数的加法\n",
    "#### 运算法则\n",
    "1. 同号两数相加，取相同的符号，并把绝对值相加。\n",
    "2. 绝对值不想等的异号两数相加，取绝对值较大的加数的符号，并用较大的绝对值减去较小的绝对值。互为相反数的两个数相加得0。\n",
    "3. 一个数同0相加，仍得这个数。\n",
    "4. 加法交换律、加法结合律仍然成立\n",
    "\n",
    "#### 复习\n",
    "* 加法交换律： a+b = b+a\n",
    "* 加法结合律： (a+b)+c = a+(b+c)"
   ]
  },
  {
   "cell_type": "code",
   "execution_count": 2,
   "id": "1c334054",
   "metadata": {},
   "outputs": [
    {
     "name": "stdout",
     "output_type": "stream",
     "text": [
      "正确！\n"
     ]
    }
   ],
   "source": [
    "print(\"正确！\" if input(\"23+(-18)+6+(-13)=?\") == \"-2\" else \"错误～\")"
   ]
  },
  {
   "cell_type": "markdown",
   "id": "194361c8",
   "metadata": {},
   "source": [
    "### 有理数减法\n",
    "减去一个数，等于加上这个数的相反数。"
   ]
  },
  {
   "cell_type": "code",
   "execution_count": 4,
   "id": "d1b73b51",
   "metadata": {},
   "outputs": [
    {
     "name": "stdout",
     "output_type": "stream",
     "text": [
      "正确！\n"
     ]
    }
   ],
   "source": [
    "a = input(\"-3/4-(-1/5)-(+1/2)=?\")\n",
    "print(\"正确！\" if float(a)/-1.05==1 else \"错误～\")"
   ]
  },
  {
   "cell_type": "markdown",
   "id": "5ab3483d",
   "metadata": {},
   "source": [
    "### 有理数乘法\n",
    "#### 运算法则\n",
    "1. 两数相乘，同号得正，异号得负，并把绝对值相乘\n",
    "2. 任何数与0相乘，都得0\n",
    "3. 乘法交换律、乘法结合律、乘法分配律仍然成立\n",
    "#### 倒数\n",
    "乘积是1的两个数互为倒数。\n",
    "#### 复习\n",
    "* 乘法交换律：ab=ba\n",
    "* 乘法结合律：(ab)c=a(bc)\n",
    "* 乘法分配律：a(b+c)=ab+ac\n",
    "\n",
    "补充：乘法分配律的意思是把(b+c)的括号打开，把b和c分配给外面的因数c。做题的时候经常会反过来，求两个数的和时，先找到两个数的公因数c，然后提取到括号外面。\n",
    "#### 学习运算律的作用\n",
    "1. 巧算，减少计算量\n",
    "2. 是解决很多数学问题的基础"
   ]
  },
  {
   "cell_type": "code",
   "execution_count": 5,
   "id": "654f0027",
   "metadata": {},
   "outputs": [
    {
     "name": "stdout",
     "output_type": "stream",
     "text": [
      "正确！\n",
      "错误～\n"
     ]
    }
   ],
   "source": [
    "print(\"正确！\" if input(\"1. (9/10-1/15)*30=?\")== \"25\" else \"错误～\")\n",
    "a = input(\"2. -5的倒数是?\")\n",
    "print(\"正确！\" if eval(a)*-5==1 else \"错误～\")"
   ]
  },
  {
   "cell_type": "markdown",
   "id": "12d278e9-ea5e-48e5-8e86-b1e4d766ef04",
   "metadata": {},
   "source": [
    "3. 这是小明计算时的草稿：<br>\n",
    "$(a+b)\\times(c+d)$<br>\n",
    "$=(a+b)c+(a+b)d$<br>\n",
    "请问他引用了什么运算律?"
   ]
  },
  {
   "cell_type": "code",
   "execution_count": 6,
   "id": "a014f636-12cc-43a5-871c-d7a47d0ab01f",
   "metadata": {},
   "outputs": [
    {
     "name": "stdout",
     "output_type": "stream",
     "text": [
      "正确！\n"
     ]
    }
   ],
   "source": [
    "print(\"正确！\" if input()== \"乘法分配律\" else \"错误～\")"
   ]
  },
  {
   "cell_type": "markdown",
   "id": "481602f2",
   "metadata": {},
   "source": [
    "### 有理数除法\n",
    "1. 转为乘法：除以一个不等于0的数，等于乘以这个数的倒数，即：$a \\div b = a\\times\\frac{1}{b} (b \\neq 0)$\n",
    "2. 直接计算：两数相除，同号得正，异号得负，并把绝对值相除。0除以任何一个不等于0的数，都得0\n",
    "\n",
    "注意：除数（分母）为0是数学的一个bug，所以只要提到是除法，分数，都会明确排除除数（分母）为0的情况。\n",
    "\n",
    "#### 练习题\n",
    "$23*(-5)-\\frac{-3}{\\frac{3}{128}}$"
   ]
  },
  {
   "cell_type": "code",
   "execution_count": null,
   "id": "248793ed",
   "metadata": {},
   "outputs": [],
   "source": [
    "print(\"正确！\" if input(\"上题的答案是？\")==\"13\" else \"错误～\")"
   ]
  },
  {
   "attachments": {
    "chengfang.jpg": {
     "image/jpeg": "[encoded data removed]"
    }
   },
   "cell_type": "markdown",
   "id": "6399d4a7",
   "metadata": {},
   "source": [
    "### 有理数的乘方\n",
    "一般地，n个相同的因数a相乘，记作$a^n$，读作“a的n次方”或“a的n次幂”。<br>\n",
    "一个数可以看作这个数本身的一次方。<br>\n",
    "![chengfang.jpg](attachment:chengfang.jpg)\n",
    "#### 有理数乘方的性质\n",
    "1. 负数的奇次幂是负数，负数的偶次幂是正数。\n",
    "2. 正数的任何次幂都是正数，0的任何**整数**次幂都是0。\n",
    "\n",
    "#### 练习题：\n",
    "1. $(-3)^3 = ? $\n",
    "2. $(-3)^4 = ? $\n",
    "3. $0^3=?$"
   ]
  },
  {
   "cell_type": "code",
   "execution_count": null,
   "id": "06a89709",
   "metadata": {},
   "outputs": [],
   "source": [
    "print(\"正确！\" if input(\"上方第1题答案是?\")== \"-27\" else \"错误～\")\n",
    "print(\"正确！\" if input(\"上方第2题答案是?\")== \"81\" else \"错误～\")\n",
    "print(\"正确！\" if input(\"上方第3题答案是?\")== \"0\" else \"错误～\")\n",
    "a = input(\"-3的4次方的Markdown怎么写?\")\n",
    "print(\"正确！\" if a.replace(\" \",\"\")== \"$(-3)^4$\" else \"错误～\")"
   ]
  },
  {
   "cell_type": "markdown",
   "id": "29b11478",
   "metadata": {},
   "source": [
    "### 有理数的运算顺序\n",
    "1. 有括号先算括号里的部分，按小括号、中括号、大括号依次进行\n",
    "2. 没括号则先乘方，再乘除，最后加减\n",
    "3. 同级运算，从左到右进行\n",
    "\n",
    "#### 练习题\n",
    "1. $2\\times(-3)^3-4\\times(-3)+15=?$\n",
    "2. $(-2)^3+(-3)\\times[(-4)^2+2]-(-3)^2\\div(-2)=?$"
   ]
  },
  {
   "cell_type": "code",
   "execution_count": null,
   "id": "43121582",
   "metadata": {},
   "outputs": [],
   "source": [
    "print(\"正确！\" if input(\"上方第1题答案是?\")== \"-27\" else \"错误～\")\n",
    "print(\"正确！\" if input(\"上方第2题答案是?\")== \"-57.5\" else \"错误～\")"
   ]
  },
  {
   "cell_type": "markdown",
   "id": "6276bce1",
   "metadata": {},
   "source": [
    "### 科学计数法\n",
    "绝对值很大的数，用传统方法书写和读起来都很麻烦，用科学记数法则更简洁。比如-567 000 000记作$-5.67 \\times 10^8$, 读作“-5.67乘10的8次方”\n",
    "\n",
    "### 近似数\n",
    "* 很多情况下，很难取得准确数，或者不必使用准确数，而可以使用近似数。例如，宇宙现在的年龄约为200亿年。\n",
    "* 近似数与准确数的接近程度，可以用精确度表示。"
   ]
  },
  {
   "cell_type": "code",
   "execution_count": null,
   "id": "e3c12a27",
   "metadata": {},
   "outputs": [],
   "source": [
    "print(\"正确！\" if input(\"如果把513人近似为约有500人，那么误差是多少?\")== \"13\" else \"错误～\")\n",
    "print(\"正确！\" if input(\"3.14和3.142都是圆周率的近似值，哪个一个更精确?\")== \"3.142\" else \"错误～\")\n",
    "print(\"正确！\" if input(\"1.804精确到0.01后的结果是?\")== \"1.80\" else \"错误～\")"
   ]
  },
  {
   "cell_type": "code",
   "execution_count": null,
   "id": "c05f2a9c",
   "metadata": {},
   "outputs": [],
   "source": [
    "%%dmind markdown right\n",
    "# 实数\n",
    "## 平方根\n",
    "### 被开方数\n",
    "### 开平方\n",
    "### 平方根\n",
    "### 算数平方根\n",
    "## 立方根\n",
    "### 被开方数\n",
    "### 根指数\n",
    "### 开立方\n",
    "### 立方根\n",
    "## 实数\n"
   ]
  },
  {
   "cell_type": "markdown",
   "id": "0cfa4558",
   "metadata": {},
   "source": [
    "# 实数\n",
    "## 平方根\n",
    "1. 如果x的平方等于a，即$x^2=a$：\n",
    "* 如果a=0，则x=0，即0的平方根是它本身；\n",
    "* 如果a>0，则$x=\\pm \\sqrt{a}$，其中$\\sqrt{a}$是a的算数平方根。\n",
    "2. 许多正有理数的算数平方根（如$\\sqrt{2} \\sqrt{3} \\sqrt{5} \\sqrt{7}$）都是无限不循环小数，也就是无理数\n",
    "3. 乘方和开方互为逆运算\n",
    "4. 负数没有平方根"
   ]
  },
  {
   "cell_type": "code",
   "execution_count": null,
   "id": "fdf9d5d0",
   "metadata": {},
   "outputs": [],
   "source": [
    "print(\"正确！\" if input(\"9的平方根是？\")== \"$\\pm3$\" else \"错误～\")\n",
    "a = input(\"如何用Mark Down书写2的平方根=?\")\n",
    "print(\"正确！\" if (a== \"$\\sqrt[2]{2}$\" or a== \"$\\sqrt{2}$\") else \"错误～\")"
   ]
  },
  {
   "cell_type": "markdown",
   "id": "437c0ea5",
   "metadata": {},
   "source": [
    "## 立方根\n",
    "1. 如果x的立方等于a，即$x^3 = a$:\n",
    "* 则$x = \\sqrt[3]{a}$，即x是a的立方根或三次方根\n",
    "* a叫做被开方数，3是根指数，$\\sqrt[3]{a}$读作“三次根号a”\n",
    "* 很多有理数的立方根是无限不循环小数，例如$\\sqrt[3]{2} \\sqrt[3]{3}$，我们可以用有理数近似地表示它们 "
   ]
  },
  {
   "cell_type": "code",
   "execution_count": null,
   "id": "48011af7",
   "metadata": {},
   "outputs": [],
   "source": [
    "print(\"正确！\" if input(\"0.064的立方根=?\")== \"0.4\" else \"错误～\")\n",
    "print(\"正确！\" if input(\"如何用Mark Down书写2的立方根=?\")== \"$\\sqrt[3]{2}$\" else \"错误～\")"
   ]
  },
  {
   "cell_type": "markdown",
   "id": "faa5ced7",
   "metadata": {},
   "source": [
    "## 实数\n",
    "1. 实数，无论是有理数还是无理数都可以用数轴上的一个点表示出来。实数与数轴是一一对应的。\n",
    "2. 有理数关于相反数和绝对值的意义同样使用于无理数，即：实数a的相反数是-a，一个镇实数的绝对值是它本身；一个负实数的绝对值是它的相反数；0的绝对值是0。\n",
    "3. 在实数运算中，当遇到无理数并且需要求出结果的近似值时，可以按照所要求的精确度用相应的近似有限小数去代替无理数，再进行计算。"
   ]
  },
  {
   "attachments": {
    "zhengshi.gif": {
     "image/gif": "[encoded data removed]"
    }
   },
   "cell_type": "markdown",
   "id": "db3de023",
   "metadata": {},
   "source": [
    "# 整式的加减\n",
    "![zhengshi.gif](attachment:zhengshi.gif)\n",
    "## 为什么要学整式和整式的加减？\n",
    "为列方程和解方程做准备。\n",
    "## 整式\n",
    "单项式与多项式统称整式。\n",
    "### 单项式\n",
    "数字或字母的积，单独的一个数或一个字母也是单项式。\n",
    "1. 单项式中的数字因数叫做这个单项式的系数\n",
    "2. 一个单项式中，所有字母的指数的和叫做这个单项式的次数\n",
    "#### 练习题\n",
    "1. 单项式-100h的系数是多少?\n",
    "2. 单项式$5h^3$的次数是多少?"
   ]
  },
  {
   "cell_type": "code",
   "execution_count": null,
   "id": "95ebfa03",
   "metadata": {},
   "outputs": [],
   "source": [
    "print(\"正确！\" if input(\"上方第1题的答案是?\")== \"-100\" else \"错误～\")\n",
    "print(\"正确！\" if input(\"上方第2题的答案是?\")== \"3\" else \"错误～\")"
   ]
  },
  {
   "cell_type": "markdown",
   "id": "af612224",
   "metadata": {},
   "source": [
    "### 几个单项式的和叫做多项式\n",
    "1. 多项式中的每个单项式，叫做多项式的项，不含字母的项叫做常数项。\n",
    "2. 多项式里，次数最高项的次数，叫做这个多项式的次数。多项式的次是衡量多项式复杂程度的标准。\n",
    "\n",
    "#### 练习题\n",
    "有一个多项式：$2x^3+3x+5$, 请问：\n",
    "1. 它的常数项是？\n",
    "2. 它的次数是？\n",
    "3. 其中的项\"3x\"中的3是这个项的？"
   ]
  },
  {
   "cell_type": "code",
   "execution_count": null,
   "id": "a62a86d0",
   "metadata": {},
   "outputs": [],
   "source": [
    "print(\"正确！\" if input(\"上方第1题的答案是?\")== \"5\" else \"错误～\")\n",
    "print(\"正确！\" if input(\"上方第2题的答案是?\")== \"3\" else \"错误～\")\n",
    "print(\"正确！\" if input(\"上方第3题的答案是?\")== \"系数\" else \"错误～\")"
   ]
  },
  {
   "cell_type": "markdown",
   "id": "18c352d6",
   "metadata": {},
   "source": [
    "## 代数式的值\n",
    "用数值代替代数式中的字母，按照代数式知名的运算，计算出的结果，叫做代数式的值。\n",
    "1. 求代数式的值，一般是先将代数式化简，然后再将字母的取值代入。\n",
    "2. 求代数式的值，有时求不出其字母的值，需要利用技巧，“整体”代入。\n",
    "\n",
    "### 练习题\n",
    "已知2a+3b=8, 求6a-5+9b的值？"
   ]
  },
  {
   "cell_type": "code",
   "execution_count": null,
   "id": "b38e3323",
   "metadata": {},
   "outputs": [],
   "source": [
    "print(\"正确！\" if input(\"上方第题目的答案是?\")== \"19\" else \"错误～\")"
   ]
  },
  {
   "cell_type": "markdown",
   "id": "47d0bdf8",
   "metadata": {},
   "source": [
    "## 整式的加减\n",
    "1. 所含字母相同，并且相同字母的指数也相同的项叫做同类项。几个常数项也是同类项。\n",
    "2. 识别出同类项后，同类项之间就可以运用交换律、结合律、分配律把多项式中的同类项进行合并。把多项式中的同类项合并成一项，叫做合并同类项。\n",
    "3. 合并同类项后，所得项的系数是合并前各同类项的系数的和，且字母连同它的指数不变。\n",
    "4. 如果有括号，一般先去括号再合并同类项。如果括号外的因数是正数，去括号后原括号内各项符号不变。反之，各项符号相反。\n",
    "\n",
    "### 练习题\n",
    "1. 请将$-3 \\times -2x-5x+3+2y^2-5y^2-5$"
   ]
  },
  {
   "cell_type": "code",
   "execution_count": null,
   "id": "e923a8cc",
   "metadata": {},
   "outputs": [],
   "source": [
    "from IPython.display import display, Latex\n",
    "from utils import compareLatexXY\n",
    "\n",
    "# 定义一个带参数的LaTeX表达式\n",
    "latex_expr = r\"$-3 \\times -2x-5x+3+2y^2-5y^2-5$\"\n",
    "display(Latex(\"请化简: {}\".format(latex_expr)))\n",
    "\n",
    "a = input(\"上方整式化简后的结果是：\")\n",
    "display(Latex(r\"你输入的值是: ${}$\".format(a)))\n",
    "\n",
    "same = compareLatexXY(latex_expr, a)\n",
    "print(\"正确！\" if same else \"错误～\")"
   ]
  },
  {
   "cell_type": "markdown",
   "id": "221d520a",
   "metadata": {},
   "source": [
    "# 方程是什么？\n",
    "* 方程是含有未知数的等式\n",
    "* 有趣的是，中国古代的《九章算术》中已经系统讲解了如何用方程和方程组解决生活中的问题。\n",
    "* 方程的特点是建立等式之后的运算全部是纯数学运算，相对于分步列式计算来说，大大简化了思考的过程。\n",
    "\n",
    "# \n",
    "\n",
    "# 一元一次方程\n",
    "* 方程：含有未知数的等式\n",
    "* 一元：只有一个未知数\n",
    "* 一次：含有未知数项的次数为1\n",
    "* 方程的解：能使方程两边相等的未知数的值叫做方程的解\n",
    "这是方程中最简单的一种，以后会学习多元多次方程。\n",
    "\n",
    "## 等式的性质\n",
    "1. 如果a=b, 那么 $a \\pm c = b \\pm c$\n",
    "2. 如果a=b, 那么 ac = bc; 如果$a=b (c \\neq 0), 那么 \\frac{a}{c} = \\frac{b}{c}$"
   ]
  },
  {
   "attachments": {
    "formula_1_1.gif": {
     "image/gif": "[encoded data removed]"
    }
   },
   "cell_type": "markdown",
   "id": "b00d9f89",
   "metadata": {},
   "source": [
    "## 方程解题流程\n",
    "\n",
    "![formula_1_1.gif](attachment:formula_1_1.gif)\n",
    "\n",
    "## 方程的难点\n",
    "* 设谁为未知数：大多数方程题设置要求解的量为未知数，考察解方程的基本能力和把方程与常见数学问题进行结合的能力（见下表）。但有些情况需要设置其它变量为未知数，主要考察读题和对方程的深入理解\n",
    "* 解方程：大多数方程题的解题方程很简单，这也是方程的优势。但少数情况下需要找到整式的相似点做简化或消除，才能大大简化解方程的过程"
   ]
  },
  {
   "cell_type": "markdown",
   "id": "48d1cf22",
   "metadata": {},
   "source": [
    "## 练习题\n",
    "1. 解方程 $\\frac{x+1}{2}-1=2+\\frac{2-x}{4}$\n",
    "\n",
    "2. 解方程 $3x+\\frac{x-1}{2}=3-\\frac{2x-1}{3}$"
   ]
  },
  {
   "cell_type": "code",
   "execution_count": null,
   "id": "dc0dc9d5",
   "metadata": {},
   "outputs": [],
   "source": [
    "print(\"正确！\" if input(\"上方第1题x=?\")== \"4\" else \"错误～\")\n",
    "a = input(\"上方第1题x=?\")\n",
    "print(\"正确！\" if a == \"\\frac{23}{25}\" or a == \"23/25\" else \"错误～\")"
   ]
  },
  {
   "cell_type": "markdown",
   "id": "cff4edf5",
   "metadata": {},
   "source": [
    "# 实数\n",
    "实数包括有理数和无理数，与实数相对应的是虚数"
   ]
  },
  {
   "cell_type": "code",
   "execution_count": null,
   "id": "c59a3667",
   "metadata": {},
   "outputs": [],
   "source": [
    "%%dmind markdown right\n",
    "# 复数\n",
    "## 实数\n",
    "### 有理数\n",
    "### 无理数\n",
    "## 虚数"
   ]
  },
  {
   "cell_type": "markdown",
   "id": "4c5dafab",
   "metadata": {},
   "source": [
    "## 无理数\n",
    "当人们通过正方形的面积来计算正方形的边长的时候，发现意见有趣的事情：有时候算出来的边长是无限不循环小数。比如，正方形的面积是2，那么它的边长就是$\\sqrt{2}$，这个数是无限不循环小数。\n",
    "\n",
    "这种无限不循环小数非常不合常理，于是命名为“无理数”。而把有理数和无理数统称为实数，与以后会学到的更为诡异虚数进行区分。"
   ]
  },
  {
   "cell_type": "markdown",
   "id": "21d38b2a",
   "metadata": {},
   "source": [
    "### $\\pi$\n",
    "\n",
    "大家有没有思考过这个问题：在发现圆面积公式（$S=\\pi\\times r^2$）之前如何得到圆的面积。因为圆的外轮廓是弧形，精确测量圆面积非常困难。因为实在太难，聪明的古代数学家想出了用“近似”这个妥协的方法来计算圆的面积，即把圆近似看作等边多边形来计算面积。这个近似的等边多边形的边数越多，多边形的面积越接近圆的面积。我国祖冲之把圆近似为12288边形计算出的面积领先世界1000年。更夸张的是，相传阿基米德在计算圆面积时被杀，“别动我的圆”成了他最后的遗言。\n",
    "\n",
    "正多边形的边数越多，圆的面积越精确。数学家们发现圆面积与半径的平方的比是一个无限不循环小数，命名为$\\pi$。而圆的直径是一条线段，长度很好测量，于是用圆面积公式$S=\\pi\\times r^2$来计算圆面积要容易得多。"
   ]
  },
  {
   "attachments": {
    "f5647dd0-d7f3-4c1d-a678-933f31a779f9.jpg": {
     "image/jpeg": "[encoded data removed]"
    }
   },
   "cell_type": "markdown",
   "id": "fe11bea8",
   "metadata": {},
   "source": [
    "![Death_of_Archimedes.jpg](attachment:f5647dd0-d7f3-4c1d-a678-933f31a779f9.jpg)"
   ]
  },
  {
   "cell_type": "markdown",
   "id": "37c1e639",
   "metadata": {},
   "source": [
    "古代数学家在研究圆的时候发现一个有趣的规律，圆的周长和直径的比值，圆的面积和半径的平方的比值，这两个比值是一样的。"
   ]
  },
  {
   "cell_type": "markdown",
   "id": "4f7cdd92",
   "metadata": {},
   "source": [
    "### 平方根\n",
    "一部分平方根是有理数（如$\\sqrt{4}$），一部分平方根是无理数（如$\\sqrt{3}$），这里就不拆开来讲了。\n",
    "* 如果一个正数x的平方等于a，即$x^2=a (x>0)$,那么这个正数x叫做a的算数平方根，记为$\\sqrt{a}$,读作“根号a”，a叫做被开方数。\n",
    "* 如果一个数的平方等于a，即$x^2=a$，那么这个数叫做a的平方根或二次方根。\n",
    "* 0的算数平方根是0.\n",
    "* 正数的平方根有两个，它们互为相反数，其中正的平方根就是这个数的算数平方根\n",
    "* 平方与开方互为逆运算\n",
    "* 在实数范围内，任何一个数的的平方都不会是负数，所以负数没有平方根\n",
    "* 很多正有理数的算数平方根（$\\sqrt{2}, \\sqrt{3}, \\sqrt{5}, \\sqrt{7}$）都是无限不循环小数，也就是无理数"
   ]
  },
  {
   "cell_type": "code",
   "execution_count": null,
   "id": "aadfe6eb",
   "metadata": {},
   "outputs": [],
   "source": [
    "print(\"正确！\" if input(\"0.0001的算数平方根是?\")== \"0.01\" else \"错误～\")\n",
    "print(\"正确！\" if input(\"一个正数越大，它的算数平方根就越大?A 正确, B 错误\").upper()== \"A\" else \"错误～\")\n",
    "print(\"正确！\" if input(\"-2是4的平方根?A 正确, B 错误\").upper()== \"A\" else \"错误～\")"
   ]
  },
  {
   "cell_type": "markdown",
   "id": "00a36650",
   "metadata": {},
   "source": [
    "### 立方根\n",
    "一部分立方根是有理数（如$\\sqrt[3]{8}$），一部分立方根是无理数（如$\\sqrt[3]{3}$），这里就不拆开来讲了。\n",
    "* 如果一个数的立方等于a，那么这个数叫做a的**立方根**或**三次方根**\n",
    "* 求一个数的立方的运算，叫做**开立方**\n",
    "* $\\sqrt[3]{8}$中8是**被开方数**，3是**根指数**"
   ]
  },
  {
   "cell_type": "code",
   "execution_count": null,
   "id": "86fd96a0",
   "metadata": {},
   "outputs": [],
   "source": [
    "print(\"正确！\" if input(\"因为2的立方是8，所以8的立方根是？\")== 2 else \"错误～\")\n",
    "print(\"正确！\" if input(\"因为-2的立方是-8，所以-8的立方根是？\")== -2 else \"错误～\")\n",
    "print(\"正确！\" if input(\"0.064的立方根是？\")== 0.4 else \"错误～\")"
   ]
  },
  {
   "cell_type": "code",
   "execution_count": 1,
   "id": "804ea59d",
   "metadata": {},
   "outputs": [
    {
     "data": {
      "text/latex": [
       "$\\sqrt[3]{-\\frac{8}{27}}$=?"
      ],
      "text/plain": [
       "<IPython.core.display.Latex object>"
      ]
     },
     "metadata": {},
     "output_type": "display_data"
    },
    {
     "data": {
      "text/latex": [
       "正确！$\\sqrt[3]{-\\frac{8}{27}}$=-2/3"
      ],
      "text/plain": [
       "<IPython.core.display.Latex object>"
      ]
     },
     "metadata": {},
     "output_type": "display_data"
    },
    {
     "data": {
      "text/latex": [
       "$\\sqrt[3]{-\\frac{27}{64}}$=?"
      ],
      "text/plain": [
       "<IPython.core.display.Latex object>"
      ]
     },
     "metadata": {},
     "output_type": "display_data"
    },
    {
     "data": {
      "text/latex": [
       "错误！$\\sqrt[3]{-\\frac{27}{64}}$≠3"
      ],
      "text/plain": [
       "<IPython.core.display.Latex object>"
      ]
     },
     "metadata": {},
     "output_type": "display_data"
    }
   ],
   "source": [
    "from utils import constLatexQuiz\n",
    "constLatexQuiz(r\"$\\sqrt[3]{-\\frac{8}{27}}$\",r\"-\\frac{2}{3}\")\n",
    "print(\"----------------------\")\n",
    "constLatexQuiz(r\"$\\sqrt[3]{-\\frac{27}{64}}$\",r\"-\\frac{3}{4}\")"
   ]
  },
  {
   "cell_type": "markdown",
   "id": "11a0a048",
   "metadata": {},
   "source": []
  }
 ],
 "metadata": {
  "kernelspec": {
   "display_name": "Python 3 (ipykernel)",
   "language": "python",
   "name": "python3"
  },
  "language_info": {
   "codemirror_mode": {
    "name": "ipython",
    "version": 3
   },
   "file_extension": ".py",
   "mimetype": "text/x-python",
   "name": "python",
   "nbconvert_exporter": "python",
   "pygments_lexer": "ipython3",
   "version": "3.11.3"
  },
  "toc": {
   "base_numbering": 1,
   "nav_menu": {},
   "number_sections": true,
   "sideBar": true,
   "skip_h1_title": false,
   "title_cell": "Table of Contents",
   "title_sidebar": "Contents",
   "toc_cell": false,
   "toc_position": {},
   "toc_section_display": true,
   "toc_window_display": false
  }
 },
 "nbformat": 4,
 "nbformat_minor": 5
}
