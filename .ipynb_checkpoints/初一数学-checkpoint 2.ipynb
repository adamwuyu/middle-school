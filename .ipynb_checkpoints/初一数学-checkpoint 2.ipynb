{
 "cells": [
  {
   "cell_type": "markdown",
   "id": "a4a290ac",
   "metadata": {},
   "source": [
    "# 有理数和无理数"
   ]
  },
  {
   "cell_type": "markdown",
   "id": "f66faa1e",
   "metadata": {},
   "source": [
    "## 有理数"
   ]
  },
  {
   "cell_type": "markdown",
   "id": "346b9186",
   "metadata": {},
   "source": [
    "有理数按照大小可以分为正有理数、0和负有理数"
   ]
  },
  {
   "cell_type": "code",
   "execution_count": 2,
   "id": "6bbcb208",
   "metadata": {},
   "outputs": [
    {
     "name": "stdout",
     "output_type": "stream",
     "text": [
      "PI是正有理数\n",
      "0是有理数\n",
      "-1是负有理数\n"
     ]
    }
   ],
   "source": [
    "print(\"PI是正有理数\")\n",
    "print(\"0是有理数\")\n",
    "print(\"-1是负有理数\")"
   ]
  },
  {
   "cell_type": "code",
   "execution_count": null,
   "id": "6ae4adeb",
   "metadata": {},
   "outputs": [],
   "source": []
  }
 ],
 "metadata": {
  "kernelspec": {
   "display_name": "Python 3 (ipykernel)",
   "language": "python",
   "name": "python3"
  },
  "language_info": {
   "codemirror_mode": {
    "name": "ipython",
    "version": 3
   },
   "file_extension": ".py",
   "mimetype": "text/x-python",
   "name": "python",
   "nbconvert_exporter": "python",
   "pygments_lexer": "ipython3",
   "version": "3.11.0"
  },
  "toc": {
   "base_numbering": 1,
   "nav_menu": {},
   "number_sections": true,
   "sideBar": true,
   "skip_h1_title": false,
   "title_cell": "Table of Contents",
   "title_sidebar": "Contents",
   "toc_cell": false,
   "toc_position": {},
   "toc_section_display": true,
   "toc_window_display": false
  }
 },
 "nbformat": 4,
 "nbformat_minor": 5
}
