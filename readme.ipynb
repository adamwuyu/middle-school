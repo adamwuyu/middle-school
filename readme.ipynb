{
 "cells": [
  {
   "cell_type": "markdown",
   "metadata": {},
   "source": [
    "# 本库的作用\n",
    "本库以Jupyter Notebook和Python为主要技术手段，梳理中学各科知识点，并且通过练习的方式来检验学习情况，从而实现快速地预习和复习。\n",
    " * 帮助孩子预习初中课程\n",
    " * 帮助孩子考快速复习知识点\n",
    " * 让孩子遇到不明确的概念能快速梳理和定位，减轻学业负担，提高幸福感和成就感\n",
    " * 帮助家长快速回忆知识点，方便辅导孩子学习"
   ]
  },
  {
   "cell_type": "markdown",
   "metadata": {},
   "source": [
    "# 如何使用本库\n",
    "1. 克隆或下载本库后先按照“0_Jupyter基本操作”下方的指示，安装必要的三方库（如果不安装，只影响极少数的习题，问题不大）\n",
    "2. 折叠笔记中的代码部分（这样更简洁美观，也不容易看到答案）\n",
    "3. 系统预习/复习时，从上到下逐个运行单元格，查看文字笔记，做练习题\n",
    "4. 有针对性地复习时，打开对应笔记，按Ctrl+F搜索关键词找到对应知识点进行复习\n",
    "5. 如有错漏、建议等，欢迎修改后提上来，不会开发的提issue也可以"
   ]
  },
  {
   "cell_type": "markdown",
   "metadata": {},
   "source": []
  }
 ],
 "metadata": {
  "kernelspec": {
   "display_name": "Python 3 (ipykernel)",
   "language": "python",
   "name": "python3"
  },
  "language_info": {
   "codemirror_mode": {
    "name": "ipython",
    "version": 3
   },
   "file_extension": ".py",
   "mimetype": "text/x-python",
   "name": "python",
   "nbconvert_exporter": "python",
   "pygments_lexer": "ipython3",
   "version": "3.9.16"
  },
  "toc": {
   "base_numbering": 1,
   "nav_menu": {},
   "number_sections": true,
   "sideBar": true,
   "skip_h1_title": false,
   "title_cell": "Table of Contents",
   "title_sidebar": "Contents",
   "toc_cell": false,
   "toc_position": {},
   "toc_section_display": true,
   "toc_window_display": false
  }
 },
 "nbformat": 4,
 "nbformat_minor": 2
}
